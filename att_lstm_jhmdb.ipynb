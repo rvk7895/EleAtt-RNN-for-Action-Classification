{
 "cells": [
  {
   "cell_type": "code",
   "execution_count": 1,
   "metadata": {},
   "outputs": [],
   "source": [
    "import torch\n",
    "import torch.nn as nn\n",
    "import torchvision\n",
    "import torchvision.models as pretrained\n",
    "from torchvision import transforms\n",
    "from tqdm import tqdm\n",
    "\n",
    "import requests\n",
    "from PIL import Image\n",
    "import pandas as pd\n",
    "import numpy as np\n",
    "import imageio\n",
    "import cv2\n",
    "import os\n",
    "from torch.utils.data import Dataset, DataLoader\n"
   ]
  },
  {
   "cell_type": "code",
   "execution_count": 2,
   "metadata": {},
   "outputs": [
    {
     "name": "stdout",
     "output_type": "stream",
     "text": [
      "Using device: cuda\n"
     ]
    }
   ],
   "source": [
    "device = torch.device('cuda' if torch.cuda.is_available() else 'cpu')\n",
    "print(f\"Using device: {device}\")\n"
   ]
  },
  {
   "cell_type": "code",
   "execution_count": 3,
   "metadata": {},
   "outputs": [],
   "source": [
    "IMG_SIZE = 64\n",
    "BATCH_SIZE = 8\n",
    "EPOCHS = 10\n",
    "\n",
    "MAX_SEQ_LENGTH = 20\n",
    "NUM_FEATURES = (IMG_SIZE**2) * 3\n",
    "LEARNING_RATE = 0.001\n"
   ]
  },
  {
   "cell_type": "code",
   "execution_count": 4,
   "metadata": {},
   "outputs": [],
   "source": [
    "labels = []\n",
    "data = []\n",
    "\n",
    "for label in os.listdir('./JHMDB_video/ReCompress_Videos/'):\n",
    "    labels.append(label)\n",
    "    for video in os.listdir(f'./JHMDB_video/ReCompress_Videos/{label}'):\n",
    "        if video.endswith('.avi'):\n",
    "            data.append((label, f'./JHMDB_video/ReCompress_Videos/{label}/{video}'))\n"
   ]
  },
  {
   "cell_type": "code",
   "execution_count": 5,
   "metadata": {},
   "outputs": [],
   "source": [
    "label_map = {label:torch.tensor(idx) for idx, (label) in enumerate(labels)}"
   ]
  },
  {
   "cell_type": "code",
   "execution_count": 6,
   "metadata": {},
   "outputs": [],
   "source": [
    "class VideoDataset(Dataset):\n",
    "\n",
    "    def __init__(self, video_dir_path):\n",
    "\n",
    "        self.resnet = pretrained.resnet50(pretrained=True).to(device)\n",
    "        self.resnet.eval()\n",
    "        self.layer = self.resnet.avgpool\n",
    "        self.video_embeddings = []\n",
    "        self.labels = []\n",
    "\n",
    "        self.transforms = transforms.Compose([\n",
    "            transforms.Resize((224, 224)),\n",
    "            transforms.ToTensor(),\n",
    "            transforms.Normalize(mean=[0.485, 0.456, 0.406], std=[\n",
    "                0.229, 0.224, 0.255]),\n",
    "        ])\n",
    "\n",
    "        self.label_map = {}\n",
    "\n",
    "        def hook(module, inputs, outputs):\n",
    "            self.video_embeddings[-1].append(outputs.detach().cpu().squeeze())\n",
    "\n",
    "        self.handle = self.layer.register_forward_hook(hook)\n",
    "\n",
    "        for label in os.listdir(video_dir_path):\n",
    "            # print(label)\n",
    "            for video in tqdm(os.listdir(os.path.join(video_dir_path, label))):\n",
    "                if not video.endswith('.avi'):\n",
    "                    continue\n",
    "                frames = self.get_frames(os.path.join(video_dir_path, f'{label}/{video}'))\n",
    "                self.video_embeddings.append([])\n",
    "                self.labels.append(label)\n",
    "\n",
    "                for frame in frames:\n",
    "                    inp = self.transforms(Image.fromarray(\n",
    "                        frame)).to(device).unsqueeze(0)\n",
    "                    self.resnet(inp)\n",
    "\n",
    "        self.handle.remove()\n",
    "        del self.handle\n",
    "        del self.resnet\n",
    "        del self.layer\n",
    "\n",
    "    def __len__(self):\n",
    "        return len(self.labels)\n",
    "\n",
    "    def __getitem__(self, idx):\n",
    "        return torch.vstack(self.video_embeddings[idx]), self.label_map[self.labels[idx]]\n",
    "\n",
    "    def get_frames(self, path, max_frames=20):\n",
    "        vidObj = cv2.VideoCapture(path)\n",
    "        success = 1\n",
    "        frames = []\n",
    "        count = 0\n",
    "        while success:\n",
    "            success, image = vidObj.read()\n",
    "            count += 1\n",
    "            if not success or count > max_frames:\n",
    "                break\n",
    "            frames.append(image)\n",
    "\n",
    "        for i in range(len(frames), max_frames + 1):\n",
    "            frames.append(np.zeros_like(frames[0]))\n",
    "        return frames\n"
   ]
  },
  {
   "cell_type": "code",
   "execution_count": 8,
   "metadata": {},
   "outputs": [],
   "source": [
    "import pickle\n",
    "\n",
    "with open('train_dataset_jhmdb.pkl','rb') as f:\n",
    "    train_dataset = pickle.load(f)\n",
    "\n",
    "with open('test_dataset_jhmdb.pkl', 'rb') as f:\n",
    "    test_dataset = pickle.load(f)"
   ]
  },
  {
   "cell_type": "code",
   "execution_count": 10,
   "metadata": {},
   "outputs": [],
   "source": [
    "train_dataset.label_map = label_map\n",
    "test_dataset.label_map = label_map"
   ]
  },
  {
   "cell_type": "code",
   "execution_count": 11,
   "metadata": {},
   "outputs": [],
   "source": [
    "class Attention(nn.Module):\n",
    "  def __init__(self, embedding_dim, n_hidden):\n",
    "    super().__init__()\n",
    "\n",
    "    self.embedding_dim = embedding_dim\n",
    "    self.n_hidden = n_hidden\n",
    "\n",
    "    self.wx = nn.Linear(self.embedding_dim, self.embedding_dim)\n",
    "    self.wh = nn.Linear(self.n_hidden, self.embedding_dim)\n",
    "    self.wc = nn.Linear(self.n_hidden, self.embedding_dim)\n",
    "    self.sigmoid = nn.Sigmoid()\n",
    "\n",
    "  def forward(self, X, h, c):\n",
    "    out1 = self.wx(X)\n",
    "    out2 = self.wh(h)\n",
    "    out3 = self.wc(c)\n",
    "    a = self.sigmoid(out1+out2+out3)\n",
    "    \n",
    "    return torch.mul(a,X)"
   ]
  },
  {
   "cell_type": "code",
   "execution_count": 23,
   "metadata": {},
   "outputs": [],
   "source": [
    "\n",
    "class EleAttG_LSTM(nn.Module):\n",
    "  def __init__(self, embedding_dim, n_hidden=128, n_classes=None):\n",
    "    super().__init__()\n",
    "\n",
    "    assert n_classes is not None\n",
    "\n",
    "    self.embedding_dim = embedding_dim\n",
    "    self.n_hidden = n_hidden\n",
    "    self.n_classes = n_classes\n",
    "\n",
    "    self.attention = Attention(self.embedding_dim, self.n_hidden)\n",
    "    self.lstmcell = nn.LSTMCell(self.embedding_dim, self.n_hidden)\n",
    "    self.fc = nn.Sequential(\n",
    "        nn.Linear(self.n_hidden, self.n_hidden),\n",
    "        nn.ReLU(),\n",
    "        nn.Linear(self.n_hidden, self.n_classes),\n",
    "        nn.Softmax(dim=1)\n",
    "    )\n",
    "\n",
    "  def forward(self, X):\n",
    "    '''\n",
    "      x = batch_size * frames * embedding_dim\n",
    "\n",
    "    '''\n",
    "    h = torch.zeros(X.shape[0], self.n_hidden).to(device)\n",
    "    c = torch.zeros(X.shape[0], self.n_hidden).to(device)\n",
    "    for i in range(X.shape[1]):\n",
    "      X[:, i, :] = self.attention(X[:, i, :].clone(), h, c)\n",
    "      h,c  = self.lstmcell(X[:, i, :].clone(), (h, c))\n",
    "\n",
    "    return self.fc(h)\n"
   ]
  },
  {
   "cell_type": "code",
   "execution_count": 24,
   "metadata": {},
   "outputs": [],
   "source": [
    "class Vanilla_LSTM(nn.Module):\n",
    "    def __init__(self, embedding_dim, n_hidden, n_classes=None):\n",
    "        super().__init__()\n",
    "\n",
    "        assert n_classes is not None\n",
    "        self.embedding_dim = embedding_dim\n",
    "        self.n_hidden = n_hidden\n",
    "        self.n_classes = n_classes\n",
    "\n",
    "        self.lstmcell = nn.LSTMCell(self.embedding_dim, self.n_hidden)\n",
    "        self.fc = nn.Sequential(\n",
    "            nn.Linear(self.n_hidden, self.n_hidden),\n",
    "            nn.ReLU(),\n",
    "            nn.Linear(self.n_hidden, self.n_classes),\n",
    "            nn.Softmax(dim=1)\n",
    "        )\n",
    "\n",
    "    def forward(self, X):\n",
    "        h = torch.zeros(X.shape[0], self.n_hidden).to(device)\n",
    "        c = torch.zeros(X.shape[0], self.n_hidden).to(device)\n",
    "        for i in range(X.shape[1]):\n",
    "            h, c = self.lstmcell(X[:, i, :].clone(), (h, c))\n",
    "\n",
    "        return self.fc(h)\n"
   ]
  },
  {
   "cell_type": "code",
   "execution_count": 25,
   "metadata": {},
   "outputs": [],
   "source": [
    "model = EleAttG_LSTM(2048, 256, 21).to(device)\n"
   ]
  },
  {
   "cell_type": "code",
   "execution_count": 16,
   "metadata": {},
   "outputs": [],
   "source": [
    "training_loader = DataLoader(\n",
    "    train_dataset, batch_size=BATCH_SIZE, shuffle=True)\n"
   ]
  },
  {
   "cell_type": "code",
   "execution_count": 26,
   "metadata": {},
   "outputs": [],
   "source": [
    "def train(model, dataloader, device, n_epochs=10):\n",
    "    optimizer = torch.optim.AdamW(model.parameters())\n",
    "    criterion = nn.CrossEntropyLoss()\n",
    "\n",
    "    for epoch in range(n_epochs):\n",
    "        loss_val = 0\n",
    "        for i, (X, y) in enumerate(tqdm(dataloader)):\n",
    "            optimizer.zero_grad()\n",
    "            X = X.to(device)\n",
    "            y = y.to(device)\n",
    "            y_pred = model(X)\n",
    "            loss = criterion(y_pred, y)\n",
    "            loss.backward()\n",
    "            optimizer.step()\n",
    "            loss_val += loss.item()\n",
    "\n",
    "        print(f'Epoch:{epoch} Loss:{loss_val}')\n"
   ]
  },
  {
   "cell_type": "code",
   "execution_count": 27,
   "metadata": {},
   "outputs": [
    {
     "name": "stderr",
     "output_type": "stream",
     "text": [
      "100%|██████████| 93/93 [00:03<00:00, 30.86it/s]\n"
     ]
    },
    {
     "name": "stdout",
     "output_type": "stream",
     "text": [
      "Epoch:0 Loss:281.832720041275\n"
     ]
    },
    {
     "name": "stderr",
     "output_type": "stream",
     "text": [
      "100%|██████████| 93/93 [00:02<00:00, 33.85it/s]\n"
     ]
    },
    {
     "name": "stdout",
     "output_type": "stream",
     "text": [
      "Epoch:1 Loss:276.42549419403076\n"
     ]
    },
    {
     "name": "stderr",
     "output_type": "stream",
     "text": [
      "100%|██████████| 93/93 [00:02<00:00, 32.89it/s]\n"
     ]
    },
    {
     "name": "stdout",
     "output_type": "stream",
     "text": [
      "Epoch:2 Loss:271.6280689239502\n"
     ]
    },
    {
     "name": "stderr",
     "output_type": "stream",
     "text": [
      "100%|██████████| 93/93 [00:02<00:00, 31.68it/s]\n"
     ]
    },
    {
     "name": "stdout",
     "output_type": "stream",
     "text": [
      "Epoch:3 Loss:266.30261421203613\n"
     ]
    },
    {
     "name": "stderr",
     "output_type": "stream",
     "text": [
      "100%|██████████| 93/93 [00:02<00:00, 31.10it/s]\n"
     ]
    },
    {
     "name": "stdout",
     "output_type": "stream",
     "text": [
      "Epoch:4 Loss:261.7419385910034\n"
     ]
    },
    {
     "name": "stderr",
     "output_type": "stream",
     "text": [
      "100%|██████████| 93/93 [00:02<00:00, 32.79it/s]\n"
     ]
    },
    {
     "name": "stdout",
     "output_type": "stream",
     "text": [
      "Epoch:5 Loss:259.3659362792969\n"
     ]
    },
    {
     "name": "stderr",
     "output_type": "stream",
     "text": [
      "100%|██████████| 93/93 [00:02<00:00, 33.28it/s]\n"
     ]
    },
    {
     "name": "stdout",
     "output_type": "stream",
     "text": [
      "Epoch:6 Loss:254.7185959815979\n"
     ]
    },
    {
     "name": "stderr",
     "output_type": "stream",
     "text": [
      "100%|██████████| 93/93 [00:02<00:00, 32.46it/s]\n"
     ]
    },
    {
     "name": "stdout",
     "output_type": "stream",
     "text": [
      "Epoch:7 Loss:252.5578374862671\n"
     ]
    },
    {
     "name": "stderr",
     "output_type": "stream",
     "text": [
      "100%|██████████| 93/93 [00:02<00:00, 33.05it/s]\n"
     ]
    },
    {
     "name": "stdout",
     "output_type": "stream",
     "text": [
      "Epoch:8 Loss:250.9123728275299\n"
     ]
    },
    {
     "name": "stderr",
     "output_type": "stream",
     "text": [
      "100%|██████████| 93/93 [00:02<00:00, 32.46it/s]"
     ]
    },
    {
     "name": "stdout",
     "output_type": "stream",
     "text": [
      "Epoch:9 Loss:250.9273064136505\n"
     ]
    },
    {
     "name": "stderr",
     "output_type": "stream",
     "text": [
      "\n"
     ]
    }
   ],
   "source": [
    "train(model, training_loader, device, 10)"
   ]
  },
  {
   "cell_type": "code",
   "execution_count": 29,
   "metadata": {},
   "outputs": [
    {
     "data": {
      "text/plain": [
       "Vanilla_LSTM(\n",
       "  (lstmcell): LSTMCell(2048, 256)\n",
       "  (fc): Sequential(\n",
       "    (0): Linear(in_features=256, out_features=256, bias=True)\n",
       "    (1): ReLU()\n",
       "    (2): Linear(in_features=256, out_features=21, bias=True)\n",
       "    (3): Softmax(dim=1)\n",
       "  )\n",
       ")"
      ]
     },
     "execution_count": 29,
     "metadata": {},
     "output_type": "execute_result"
    }
   ],
   "source": [
    "vanilla_model = Vanilla_LSTM(2048, 256, 21)\n",
    "vanilla_model.to(device)"
   ]
  },
  {
   "cell_type": "code",
   "execution_count": 30,
   "metadata": {},
   "outputs": [
    {
     "name": "stderr",
     "output_type": "stream",
     "text": [
      "100%|██████████| 93/93 [00:01<00:00, 68.66it/s]\n"
     ]
    },
    {
     "name": "stdout",
     "output_type": "stream",
     "text": [
      "Epoch:0 Loss:282.89400124549866\n"
     ]
    },
    {
     "name": "stderr",
     "output_type": "stream",
     "text": [
      "100%|██████████| 93/93 [00:01<00:00, 92.81it/s] \n"
     ]
    },
    {
     "name": "stdout",
     "output_type": "stream",
     "text": [
      "Epoch:1 Loss:280.8013508319855\n"
     ]
    },
    {
     "name": "stderr",
     "output_type": "stream",
     "text": [
      "100%|██████████| 93/93 [00:00<00:00, 105.98it/s]\n"
     ]
    },
    {
     "name": "stdout",
     "output_type": "stream",
     "text": [
      "Epoch:2 Loss:277.8125493526459\n"
     ]
    },
    {
     "name": "stderr",
     "output_type": "stream",
     "text": [
      "100%|██████████| 93/93 [00:01<00:00, 87.39it/s] \n"
     ]
    },
    {
     "name": "stdout",
     "output_type": "stream",
     "text": [
      "Epoch:3 Loss:274.35194396972656\n"
     ]
    },
    {
     "name": "stderr",
     "output_type": "stream",
     "text": [
      "100%|██████████| 93/93 [00:01<00:00, 87.40it/s] \n"
     ]
    },
    {
     "name": "stdout",
     "output_type": "stream",
     "text": [
      "Epoch:4 Loss:270.8425028324127\n"
     ]
    },
    {
     "name": "stderr",
     "output_type": "stream",
     "text": [
      "100%|██████████| 93/93 [00:01<00:00, 82.92it/s]\n"
     ]
    },
    {
     "name": "stdout",
     "output_type": "stream",
     "text": [
      "Epoch:5 Loss:266.69428181648254\n"
     ]
    },
    {
     "name": "stderr",
     "output_type": "stream",
     "text": [
      "100%|██████████| 93/93 [00:01<00:00, 90.86it/s] \n"
     ]
    },
    {
     "name": "stdout",
     "output_type": "stream",
     "text": [
      "Epoch:6 Loss:263.75190353393555\n"
     ]
    },
    {
     "name": "stderr",
     "output_type": "stream",
     "text": [
      "100%|██████████| 93/93 [00:01<00:00, 82.36it/s] \n"
     ]
    },
    {
     "name": "stdout",
     "output_type": "stream",
     "text": [
      "Epoch:7 Loss:262.0747709274292\n"
     ]
    },
    {
     "name": "stderr",
     "output_type": "stream",
     "text": [
      "100%|██████████| 93/93 [00:00<00:00, 100.88it/s]\n"
     ]
    },
    {
     "name": "stdout",
     "output_type": "stream",
     "text": [
      "Epoch:8 Loss:259.2995517253876\n"
     ]
    },
    {
     "name": "stderr",
     "output_type": "stream",
     "text": [
      "100%|██████████| 93/93 [00:00<00:00, 97.64it/s] "
     ]
    },
    {
     "name": "stdout",
     "output_type": "stream",
     "text": [
      "Epoch:9 Loss:259.65176224708557\n"
     ]
    },
    {
     "name": "stderr",
     "output_type": "stream",
     "text": [
      "\n"
     ]
    }
   ],
   "source": [
    "train(vanilla_model, training_loader, device, 10)"
   ]
  },
  {
   "cell_type": "code",
   "execution_count": 31,
   "metadata": {},
   "outputs": [
    {
     "name": "stderr",
     "output_type": "stream",
     "text": [
      "100%|██████████| 186/186 [00:01<00:00, 110.90it/s]\n"
     ]
    }
   ],
   "source": [
    "preds = list()\n",
    "y_true = list()\n",
    "\n",
    "for (X, y) in tqdm(test_dataset):\n",
    "    X = X.unsqueeze(0).to(device)\n",
    "    out = model(X).squeeze(0)\n",
    "    y_pred = out.argmax()\n",
    "    preds.append(y_pred.item())\n",
    "    y_true.append(y.item())\n"
   ]
  },
  {
   "cell_type": "code",
   "execution_count": 32,
   "metadata": {},
   "outputs": [],
   "source": [
    "from sklearn.metrics import accuracy_score, f1_score, classification_report, precision_score\n"
   ]
  },
  {
   "cell_type": "code",
   "execution_count": 33,
   "metadata": {},
   "outputs": [
    {
     "name": "stdout",
     "output_type": "stream",
     "text": [
      "              precision    recall  f1-score   support\n",
      "\n",
      "           0       0.00      0.00      0.00        10\n",
      "           1       0.46      1.00      0.63        11\n",
      "           2       0.15      0.78      0.25         9\n",
      "           3       0.00      0.00      0.00         5\n",
      "           4       0.56      0.56      0.56         9\n",
      "           5       0.93      0.93      0.93        14\n",
      "           6       0.45      0.71      0.56         7\n",
      "           7       0.79      0.73      0.76        15\n",
      "           8       0.00      0.00      0.00         9\n",
      "           9       0.00      0.00      0.00         9\n",
      "          10       0.00      0.00      0.00         7\n",
      "          11       0.00      0.00      0.00         8\n",
      "          12       0.92      0.80      0.86        15\n",
      "          13       0.00      0.00      0.00         6\n",
      "          14       0.00      0.00      0.00         8\n",
      "          15       0.00      0.00      0.00         8\n",
      "          16       0.36      1.00      0.53         4\n",
      "          17       0.40      0.89      0.55         9\n",
      "          18       0.38      0.56      0.45         9\n",
      "          19       0.22      0.25      0.24         8\n",
      "          20       0.00      0.00      0.00         6\n",
      "\n",
      "    accuracy                           0.45       186\n",
      "   macro avg       0.27      0.39      0.30       186\n",
      "weighted avg       0.34      0.45      0.37       186\n",
      "\n"
     ]
    },
    {
     "name": "stderr",
     "output_type": "stream",
     "text": [
      "/home2/dhruv.kapur/anaconda3/envs/pytorch/lib/python3.9/site-packages/sklearn/metrics/_classification.py:1318: UndefinedMetricWarning: Precision and F-score are ill-defined and being set to 0.0 in labels with no predicted samples. Use `zero_division` parameter to control this behavior.\n",
      "  _warn_prf(average, modifier, msg_start, len(result))\n",
      "/home2/dhruv.kapur/anaconda3/envs/pytorch/lib/python3.9/site-packages/sklearn/metrics/_classification.py:1318: UndefinedMetricWarning: Precision and F-score are ill-defined and being set to 0.0 in labels with no predicted samples. Use `zero_division` parameter to control this behavior.\n",
      "  _warn_prf(average, modifier, msg_start, len(result))\n",
      "/home2/dhruv.kapur/anaconda3/envs/pytorch/lib/python3.9/site-packages/sklearn/metrics/_classification.py:1318: UndefinedMetricWarning: Precision and F-score are ill-defined and being set to 0.0 in labels with no predicted samples. Use `zero_division` parameter to control this behavior.\n",
      "  _warn_prf(average, modifier, msg_start, len(result))\n"
     ]
    }
   ],
   "source": [
    "att_gru_accu = accuracy_score(y_true, preds)\n",
    "print(classification_report(y_true, preds))\n"
   ]
  },
  {
   "cell_type": "code",
   "execution_count": 34,
   "metadata": {},
   "outputs": [
    {
     "name": "stderr",
     "output_type": "stream",
     "text": [
      "100%|██████████| 186/186 [00:00<00:00, 288.59it/s]\n"
     ]
    }
   ],
   "source": [
    "preds = list()\n",
    "y_true = list()\n",
    "\n",
    "for (X, y) in tqdm(test_dataset):\n",
    "    X = X.unsqueeze(0).to(device)\n",
    "    out = vanilla_model(X).squeeze(0)\n",
    "    y_pred = out.argmax()\n",
    "    preds.append(y_pred.item())\n",
    "    y_true.append(y.item())\n"
   ]
  },
  {
   "cell_type": "code",
   "execution_count": 35,
   "metadata": {},
   "outputs": [
    {
     "name": "stdout",
     "output_type": "stream",
     "text": [
      "              precision    recall  f1-score   support\n",
      "\n",
      "           0       0.00      0.00      0.00        10\n",
      "           1       0.64      0.82      0.72        11\n",
      "           2       0.00      0.00      0.00         9\n",
      "           3       0.00      0.00      0.00         5\n",
      "           4       0.20      0.89      0.32         9\n",
      "           5       0.92      0.79      0.85        14\n",
      "           6       0.00      0.00      0.00         7\n",
      "           7       0.38      0.60      0.46        15\n",
      "           8       0.00      0.00      0.00         9\n",
      "           9       0.00      0.00      0.00         9\n",
      "          10       0.12      0.71      0.21         7\n",
      "          11       0.00      0.00      0.00         8\n",
      "          12       0.00      0.00      0.00        15\n",
      "          13       0.00      0.00      0.00         6\n",
      "          14       0.00      0.00      0.00         8\n",
      "          15       0.00      0.00      0.00         8\n",
      "          16       0.22      1.00      0.36         4\n",
      "          17       0.36      1.00      0.53         9\n",
      "          18       0.58      0.78      0.67         9\n",
      "          19       0.00      0.00      0.00         8\n",
      "          20       0.00      0.00      0.00         6\n",
      "\n",
      "    accuracy                           0.33       186\n",
      "   macro avg       0.16      0.31      0.20       186\n",
      "weighted avg       0.20      0.33      0.23       186\n",
      "\n"
     ]
    },
    {
     "name": "stderr",
     "output_type": "stream",
     "text": [
      "/home2/dhruv.kapur/anaconda3/envs/pytorch/lib/python3.9/site-packages/sklearn/metrics/_classification.py:1318: UndefinedMetricWarning: Precision and F-score are ill-defined and being set to 0.0 in labels with no predicted samples. Use `zero_division` parameter to control this behavior.\n",
      "  _warn_prf(average, modifier, msg_start, len(result))\n",
      "/home2/dhruv.kapur/anaconda3/envs/pytorch/lib/python3.9/site-packages/sklearn/metrics/_classification.py:1318: UndefinedMetricWarning: Precision and F-score are ill-defined and being set to 0.0 in labels with no predicted samples. Use `zero_division` parameter to control this behavior.\n",
      "  _warn_prf(average, modifier, msg_start, len(result))\n",
      "/home2/dhruv.kapur/anaconda3/envs/pytorch/lib/python3.9/site-packages/sklearn/metrics/_classification.py:1318: UndefinedMetricWarning: Precision and F-score are ill-defined and being set to 0.0 in labels with no predicted samples. Use `zero_division` parameter to control this behavior.\n",
      "  _warn_prf(average, modifier, msg_start, len(result))\n"
     ]
    }
   ],
   "source": [
    "vanilla_accu = accuracy_score(y_true, preds)\n",
    "print(classification_report(y_true, preds))\n"
   ]
  },
  {
   "cell_type": "code",
   "execution_count": 36,
   "metadata": {},
   "outputs": [
    {
     "name": "stdout",
     "output_type": "stream",
     "text": [
      "0.3333333333333333\n",
      "0.44623655913978494\n"
     ]
    }
   ],
   "source": [
    "print(vanilla_accu)\n",
    "print(att_gru_accu)\n"
   ]
  },
  {
   "cell_type": "code",
   "execution_count": null,
   "metadata": {},
   "outputs": [],
   "source": []
  }
 ],
 "metadata": {
  "interpreter": {
   "hash": "f3ebefefc6aaf644093121d8e5202d868a7e59c8d807fbf6949f2a61cd748adb"
  },
  "kernelspec": {
   "display_name": "Python 3.9.12 ('pytorch')",
   "language": "python",
   "name": "python3"
  },
  "language_info": {
   "codemirror_mode": {
    "name": "ipython",
    "version": 3
   },
   "file_extension": ".py",
   "mimetype": "text/x-python",
   "name": "python",
   "nbconvert_exporter": "python",
   "pygments_lexer": "ipython3",
   "version": "3.9.12"
  },
  "orig_nbformat": 4
 },
 "nbformat": 4,
 "nbformat_minor": 2
}
