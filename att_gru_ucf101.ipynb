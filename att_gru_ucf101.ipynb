{
 "cells": [
  {
   "cell_type": "code",
   "execution_count": 2,
   "metadata": {},
   "outputs": [],
   "source": [
    "import cv2\n",
    "import os\n",
    "import pickle\n",
    "import numpy as np\n",
    "import torch\n",
    "import torch.nn as nn\n",
    "import torch.nn.functional as F\n",
    "import torchvision\n",
    "import torchvision.models as pretrained\n",
    "\n",
    "from torch.utils.data import Dataset, DataLoader\n",
    "from torchvision import transforms\n",
    "from tqdm import tqdm\n",
    "from PIL import Image\n",
    "from tqdm import tqdm\n"
   ]
  },
  {
   "cell_type": "code",
   "execution_count": 3,
   "metadata": {},
   "outputs": [
    {
     "name": "stdout",
     "output_type": "stream",
     "text": [
      "Using cuda\n"
     ]
    }
   ],
   "source": [
    "device = torch.device('cuda' if torch.cuda.is_available() else 'cpu')\n",
    "print(f'Using {device}')"
   ]
  },
  {
   "cell_type": "code",
   "execution_count": 4,
   "metadata": {},
   "outputs": [],
   "source": [
    "class VideoDataset(Dataset):\n",
    "\n",
    "    def __init__(self, video_dir_path):\n",
    "\n",
    "        self.resnet = pretrained.resnet50(pretrained=True).to(device)\n",
    "        self.resnet.eval()\n",
    "        self.layer = self.resnet.avgpool\n",
    "        self.video_embeddings = []\n",
    "        self.labels = []\n",
    "\n",
    "        self.transforms = transforms.Compose([\n",
    "            transforms.Resize((224, 224)),\n",
    "            transforms.ToTensor(),\n",
    "            transforms.Normalize(mean=[0.485, 0.456, 0.406], std=[\n",
    "                0.229, 0.224, 0.255]),\n",
    "        ])\n",
    "\n",
    "        self.label_map = {\n",
    "            'CricketShot': torch.tensor(0),\n",
    "            'PlayingCello': torch.tensor(1),\n",
    "            'Punch': torch.tensor(2),\n",
    "            'ShavingBeard': torch.tensor(3),\n",
    "            'TennisSwing': torch.tensor(4)\n",
    "        }\n",
    "\n",
    "        def hook(module, inputs, outputs):\n",
    "            self.video_embeddings[-1].append(outputs.detach().cpu().squeeze())\n",
    "\n",
    "        self.handle = self.layer.register_forward_hook(hook)\n",
    "\n",
    "        for video in tqdm(os.listdir(video_dir_path)):\n",
    "            frames = self.get_frames(os.path.join(video_dir_path, video))\n",
    "            self.video_embeddings.append([])\n",
    "            \n",
    "            for frame in frames:\n",
    "                inp = self.transforms(Image.fromarray(frame)).to(device).unsqueeze(0)\n",
    "                self.resnet(inp)\n",
    "\n",
    "            action = video.split('_')[1]\n",
    "            self.labels.append(action)\n",
    "\n",
    "        self.handle.remove()\n",
    "        del self.handle\n",
    "        del self.resnet\n",
    "        del self.layer\n",
    "\n",
    "    def __len__(self):\n",
    "        return len(self.labels)\n",
    "\n",
    "    def __getitem__(self, idx):\n",
    "        return torch.vstack(self.video_embeddings[idx]), self.label_map[self.labels[idx]]\n",
    "\n",
    "    def get_frames(self, path, max_frames=20):\n",
    "        vidObj = cv2.VideoCapture(path)\n",
    "        success = 1\n",
    "        frames = []\n",
    "        count = 0\n",
    "        while success:\n",
    "            success, image = vidObj.read()\n",
    "            count+=1\n",
    "            if not success or count > max_frames:\n",
    "                break\n",
    "            frames.append(image)\n",
    "        return frames\n",
    "\n",
    "    def unregister_hook(self):\n",
    "        self.handle.remove()\n",
    "        del self.handle\n"
   ]
  },
  {
   "cell_type": "code",
   "execution_count": 5,
   "metadata": {},
   "outputs": [
    {
     "name": "stderr",
     "output_type": "stream",
     "text": [
      "100%|██████████| 594/594 [03:11<00:00,  3.10it/s]\n"
     ]
    }
   ],
   "source": [
    "dataset = VideoDataset('./train')"
   ]
  },
  {
   "cell_type": "code",
   "execution_count": 6,
   "metadata": {},
   "outputs": [],
   "source": [
    "with open('video_dataset.pkl', 'wb') as f:\n",
    "    pickle.dump(dataset, f)"
   ]
  },
  {
   "cell_type": "code",
   "execution_count": 7,
   "metadata": {},
   "outputs": [],
   "source": [
    "class Attention(nn.Module):\n",
    "  def __init__(self, embedding_dim, n_hidden):\n",
    "    super().__init__()\n",
    "\n",
    "    self.embedding_dim = embedding_dim\n",
    "    self.n_hidden = n_hidden\n",
    "\n",
    "    self.wx = nn.Linear(self.embedding_dim, self.embedding_dim)\n",
    "    self.wh = nn.Linear(self.n_hidden, self.embedding_dim)\n",
    "    self.sigmoid = nn.Sigmoid()\n",
    "\n",
    "  def forward(self, X, h):\n",
    "    out1 = self.wx(X)\n",
    "    out2 = self.wh(h)\n",
    "    a = self.sigmoid(out1+out2)\n",
    "    \n",
    "    return torch.mul(a,X)"
   ]
  },
  {
   "cell_type": "code",
   "execution_count": 8,
   "metadata": {},
   "outputs": [],
   "source": [
    "\n",
    "class EleAttG_GRU(nn.Module):\n",
    "  def __init__(self, embedding_dim, n_hidden=128, n_classes=None):\n",
    "    super().__init__()\n",
    "\n",
    "    assert n_classes is not None\n",
    "\n",
    "    self.embedding_dim = embedding_dim\n",
    "    self.n_hidden = n_hidden\n",
    "    self.n_classes = n_classes\n",
    "\n",
    "    self.attention = Attention(self.embedding_dim, self.n_hidden)\n",
    "    self.grucell = nn.GRUCell(self.embedding_dim, self.n_hidden)\n",
    "    self.fc = nn.Sequential(\n",
    "        nn.Linear(self.n_hidden, self.n_hidden),\n",
    "        nn.ReLU(),\n",
    "        nn.Linear(self.n_hidden, self.n_classes),\n",
    "        nn.Softmax(dim=1)\n",
    "    )\n",
    "\n",
    "  def forward(self, X):\n",
    "    '''\n",
    "      x = batch_size * frames * embedding_dim\n",
    "\n",
    "    '''\n",
    "    h = torch.zeros(X.shape[0], self.n_hidden).to(device)\n",
    "    for i in range(X.shape[1]):\n",
    "      X[:, i, :] = self.attention(X[:, i, :].clone(), h)\n",
    "      h = self.grucell(X[:, i, :].clone(), h)\n",
    "\n",
    "    return self.fc(h)\n"
   ]
  },
  {
   "cell_type": "code",
   "execution_count": 9,
   "metadata": {},
   "outputs": [],
   "source": [
    "class Vanilla_GRU(nn.Module):\n",
    "    def __init__(self, embedding_dim,  n_hidden, n_classes=None):\n",
    "        super().__init__()\n",
    "\n",
    "        assert n_classes is not None\n",
    "        self.embedding_dim = embedding_dim\n",
    "        self.n_hidden = n_hidden\n",
    "        self.n_classes = n_classes\n",
    "\n",
    "        self.grucell = nn.GRUCell(self.embedding_dim, self.n_hidden)\n",
    "        self.fc = nn.Sequential(\n",
    "            nn.Linear(self.n_hidden, self.n_hidden),\n",
    "            nn.ReLU(),\n",
    "            nn.Linear(self.n_hidden, self.n_classes),\n",
    "            nn.Softmax(dim=1)\n",
    "        )\n",
    "    \n",
    "    def forward(self,X):\n",
    "        h = torch.zeros(X.shape[0], self.n_hidden).to(device)\n",
    "        for i in range(X.shape[1]):\n",
    "            h = self.grucell(X[:, i, :].clone(), h)\n",
    "        \n",
    "        return self.fc(h)"
   ]
  },
  {
   "cell_type": "code",
   "execution_count": 10,
   "metadata": {},
   "outputs": [
    {
     "data": {
      "text/plain": [
       "EleAttG_GRU(\n",
       "  (attention): Attention(\n",
       "    (wx): Linear(in_features=2048, out_features=2048, bias=True)\n",
       "    (wh): Linear(in_features=256, out_features=2048, bias=True)\n",
       "    (sigmoid): Sigmoid()\n",
       "  )\n",
       "  (grucell): GRUCell(2048, 256)\n",
       "  (fc): Sequential(\n",
       "    (0): Linear(in_features=256, out_features=256, bias=True)\n",
       "    (1): ReLU()\n",
       "    (2): Linear(in_features=256, out_features=5, bias=True)\n",
       "    (3): Softmax(dim=1)\n",
       "  )\n",
       ")"
      ]
     },
     "execution_count": 10,
     "metadata": {},
     "output_type": "execute_result"
    }
   ],
   "source": [
    "model = EleAttG_GRU(2048, 256, 5)\n",
    "model.to(device)"
   ]
  },
  {
   "cell_type": "code",
   "execution_count": 11,
   "metadata": {},
   "outputs": [],
   "source": [
    "train_dataloader = DataLoader(dataset, batch_size=8, shuffle=True)"
   ]
  },
  {
   "cell_type": "code",
   "execution_count": 12,
   "metadata": {},
   "outputs": [],
   "source": [
    "def train(model, dataloader, device, n_epochs=10):\n",
    "    optimizer = torch.optim.AdamW(model.parameters())\n",
    "    criterion = nn.CrossEntropyLoss()\n",
    "\n",
    "    for epoch in range(n_epochs):\n",
    "        loss_val = 0\n",
    "        for i, (X, y) in enumerate(tqdm(dataloader)):\n",
    "            optimizer.zero_grad()\n",
    "            X = X.to(device)\n",
    "            y = y.to(device)\n",
    "            y_pred = model(X)\n",
    "            loss = criterion(y_pred, y)\n",
    "            loss.backward()\n",
    "            optimizer.step()\n",
    "            loss_val += loss.item()\n",
    "\n",
    "        print(f'Epoch:{epoch} Loss:{loss_val}')\n"
   ]
  },
  {
   "cell_type": "code",
   "execution_count": 13,
   "metadata": {},
   "outputs": [
    {
     "name": "stderr",
     "output_type": "stream",
     "text": [
      "100%|██████████| 75/75 [00:04<00:00, 16.85it/s]\n"
     ]
    },
    {
     "name": "stdout",
     "output_type": "stream",
     "text": [
      "Epoch:0 Loss:78.94987326860428\n"
     ]
    },
    {
     "name": "stderr",
     "output_type": "stream",
     "text": [
      "100%|██████████| 75/75 [00:03<00:00, 23.80it/s]\n"
     ]
    },
    {
     "name": "stdout",
     "output_type": "stream",
     "text": [
      "Epoch:1 Loss:68.47460919618607\n"
     ]
    },
    {
     "name": "stderr",
     "output_type": "stream",
     "text": [
      "100%|██████████| 75/75 [00:03<00:00, 22.65it/s]\n"
     ]
    },
    {
     "name": "stdout",
     "output_type": "stream",
     "text": [
      "Epoch:2 Loss:69.91883206367493\n"
     ]
    },
    {
     "name": "stderr",
     "output_type": "stream",
     "text": [
      "100%|██████████| 75/75 [00:03<00:00, 22.53it/s]\n"
     ]
    },
    {
     "name": "stdout",
     "output_type": "stream",
     "text": [
      "Epoch:3 Loss:69.39174294471741\n"
     ]
    },
    {
     "name": "stderr",
     "output_type": "stream",
     "text": [
      "100%|██████████| 75/75 [00:03<00:00, 22.94it/s]\n"
     ]
    },
    {
     "name": "stdout",
     "output_type": "stream",
     "text": [
      "Epoch:4 Loss:80.0042245388031\n"
     ]
    },
    {
     "name": "stderr",
     "output_type": "stream",
     "text": [
      "100%|██████████| 75/75 [00:03<00:00, 22.86it/s]\n"
     ]
    },
    {
     "name": "stdout",
     "output_type": "stream",
     "text": [
      "Epoch:5 Loss:74.26113003492355\n"
     ]
    },
    {
     "name": "stderr",
     "output_type": "stream",
     "text": [
      "100%|██████████| 75/75 [00:03<00:00, 23.16it/s]\n"
     ]
    },
    {
     "name": "stdout",
     "output_type": "stream",
     "text": [
      "Epoch:6 Loss:67.91187655925751\n"
     ]
    },
    {
     "name": "stderr",
     "output_type": "stream",
     "text": [
      "100%|██████████| 75/75 [00:03<00:00, 21.69it/s]\n"
     ]
    },
    {
     "name": "stdout",
     "output_type": "stream",
     "text": [
      "Epoch:7 Loss:69.02254790067673\n"
     ]
    },
    {
     "name": "stderr",
     "output_type": "stream",
     "text": [
      "100%|██████████| 75/75 [00:03<00:00, 21.87it/s]\n"
     ]
    },
    {
     "name": "stdout",
     "output_type": "stream",
     "text": [
      "Epoch:8 Loss:67.86471486091614\n"
     ]
    },
    {
     "name": "stderr",
     "output_type": "stream",
     "text": [
      "100%|██████████| 75/75 [00:03<00:00, 23.62it/s]"
     ]
    },
    {
     "name": "stdout",
     "output_type": "stream",
     "text": [
      "Epoch:9 Loss:67.8636080622673\n"
     ]
    },
    {
     "name": "stderr",
     "output_type": "stream",
     "text": [
      "\n"
     ]
    }
   ],
   "source": [
    "train(model, train_dataloader, device, 10)"
   ]
  },
  {
   "cell_type": "code",
   "execution_count": 14,
   "metadata": {},
   "outputs": [
    {
     "data": {
      "text/plain": [
       "Vanilla_GRU(\n",
       "  (grucell): GRUCell(2048, 256)\n",
       "  (fc): Sequential(\n",
       "    (0): Linear(in_features=256, out_features=256, bias=True)\n",
       "    (1): ReLU()\n",
       "    (2): Linear(in_features=256, out_features=5, bias=True)\n",
       "    (3): Softmax(dim=1)\n",
       "  )\n",
       ")"
      ]
     },
     "execution_count": 14,
     "metadata": {},
     "output_type": "execute_result"
    }
   ],
   "source": [
    "vanilla_model = Vanilla_GRU(2048, 256, 5)\n",
    "vanilla_model.to(device)"
   ]
  },
  {
   "cell_type": "code",
   "execution_count": 15,
   "metadata": {},
   "outputs": [
    {
     "name": "stderr",
     "output_type": "stream",
     "text": [
      "100%|██████████| 75/75 [00:01<00:00, 62.56it/s]\n"
     ]
    },
    {
     "name": "stdout",
     "output_type": "stream",
     "text": [
      "Epoch:0 Loss:85.52383834123611\n"
     ]
    },
    {
     "name": "stderr",
     "output_type": "stream",
     "text": [
      "100%|██████████| 75/75 [00:01<00:00, 57.86it/s]\n"
     ]
    },
    {
     "name": "stdout",
     "output_type": "stream",
     "text": [
      "Epoch:1 Loss:70.38166725635529\n"
     ]
    },
    {
     "name": "stderr",
     "output_type": "stream",
     "text": [
      "100%|██████████| 75/75 [00:01<00:00, 61.76it/s]\n"
     ]
    },
    {
     "name": "stdout",
     "output_type": "stream",
     "text": [
      "Epoch:2 Loss:68.73321413993835\n"
     ]
    },
    {
     "name": "stderr",
     "output_type": "stream",
     "text": [
      "100%|██████████| 75/75 [00:01<00:00, 63.63it/s]\n"
     ]
    },
    {
     "name": "stdout",
     "output_type": "stream",
     "text": [
      "Epoch:3 Loss:69.00575160980225\n"
     ]
    },
    {
     "name": "stderr",
     "output_type": "stream",
     "text": [
      "100%|██████████| 75/75 [00:01<00:00, 57.97it/s]\n"
     ]
    },
    {
     "name": "stdout",
     "output_type": "stream",
     "text": [
      "Epoch:4 Loss:68.57186931371689\n"
     ]
    },
    {
     "name": "stderr",
     "output_type": "stream",
     "text": [
      "100%|██████████| 75/75 [00:01<00:00, 64.02it/s]\n"
     ]
    },
    {
     "name": "stdout",
     "output_type": "stream",
     "text": [
      "Epoch:5 Loss:68.45581543445587\n"
     ]
    },
    {
     "name": "stderr",
     "output_type": "stream",
     "text": [
      "100%|██████████| 75/75 [00:01<00:00, 60.25it/s]\n"
     ]
    },
    {
     "name": "stdout",
     "output_type": "stream",
     "text": [
      "Epoch:6 Loss:67.87236303091049\n"
     ]
    },
    {
     "name": "stderr",
     "output_type": "stream",
     "text": [
      "100%|██████████| 75/75 [00:01<00:00, 58.55it/s]\n"
     ]
    },
    {
     "name": "stdout",
     "output_type": "stream",
     "text": [
      "Epoch:7 Loss:67.86842328310013\n"
     ]
    },
    {
     "name": "stderr",
     "output_type": "stream",
     "text": [
      "100%|██████████| 75/75 [00:01<00:00, 63.94it/s]\n"
     ]
    },
    {
     "name": "stdout",
     "output_type": "stream",
     "text": [
      "Epoch:8 Loss:67.86680608987808\n"
     ]
    },
    {
     "name": "stderr",
     "output_type": "stream",
     "text": [
      "100%|██████████| 75/75 [00:01<00:00, 64.17it/s]"
     ]
    },
    {
     "name": "stdout",
     "output_type": "stream",
     "text": [
      "Epoch:9 Loss:67.86595809459686\n"
     ]
    },
    {
     "name": "stderr",
     "output_type": "stream",
     "text": [
      "\n"
     ]
    }
   ],
   "source": [
    "train(vanilla_model, train_dataloader, device, 10)"
   ]
  },
  {
   "cell_type": "code",
   "execution_count": 16,
   "metadata": {},
   "outputs": [
    {
     "name": "stderr",
     "output_type": "stream",
     "text": [
      "100%|██████████| 224/224 [01:25<00:00,  2.61it/s]\n"
     ]
    }
   ],
   "source": [
    "test_dataset = VideoDataset('./test')"
   ]
  },
  {
   "cell_type": "code",
   "execution_count": 17,
   "metadata": {},
   "outputs": [],
   "source": [
    "with open('test_dataset.pkl', 'wb') as f:\n",
    "    pickle.dump(test_dataset, f)"
   ]
  },
  {
   "cell_type": "code",
   "execution_count": 18,
   "metadata": {},
   "outputs": [
    {
     "name": "stderr",
     "output_type": "stream",
     "text": [
      "100%|██████████| 224/224 [00:01<00:00, 134.12it/s]\n"
     ]
    }
   ],
   "source": [
    "preds = list()\n",
    "y_true = list()\n",
    "\n",
    "for (X, y) in tqdm(test_dataset):\n",
    "    X = X.unsqueeze(0).to(device)\n",
    "    out = model(X).squeeze(0)\n",
    "    y_pred = out.argmax()\n",
    "    preds.append(y_pred.item())\n",
    "    y_true.append(y.item())"
   ]
  },
  {
   "cell_type": "code",
   "execution_count": 19,
   "metadata": {},
   "outputs": [],
   "source": [
    "from sklearn.metrics import accuracy_score, f1_score, classification_report, precision_score"
   ]
  },
  {
   "cell_type": "code",
   "execution_count": 23,
   "metadata": {},
   "outputs": [
    {
     "name": "stdout",
     "output_type": "stream",
     "text": [
      "              precision    recall  f1-score   support\n",
      "\n",
      "           0       0.94      0.98      0.96        49\n",
      "           1       0.98      1.00      0.99        44\n",
      "           2       1.00      0.92      0.96        39\n",
      "           3       0.98      1.00      0.99        43\n",
      "           4       0.98      0.96      0.97        49\n",
      "\n",
      "    accuracy                           0.97       224\n",
      "   macro avg       0.98      0.97      0.97       224\n",
      "weighted avg       0.97      0.97      0.97       224\n",
      "\n"
     ]
    }
   ],
   "source": [
    "att_gru_accu = accuracy_score(y_true, preds)\n",
    "print(classification_report(y_true, preds))"
   ]
  },
  {
   "cell_type": "code",
   "execution_count": 24,
   "metadata": {},
   "outputs": [
    {
     "name": "stderr",
     "output_type": "stream",
     "text": [
      "100%|██████████| 224/224 [00:00<00:00, 368.55it/s]\n"
     ]
    }
   ],
   "source": [
    "preds = list()\n",
    "y_true = list()\n",
    "\n",
    "for (X, y) in tqdm(test_dataset):\n",
    "    X = X.unsqueeze(0).to(device)\n",
    "    out = vanilla_model(X).squeeze(0)\n",
    "    y_pred = out.argmax()\n",
    "    preds.append(y_pred.item())\n",
    "    y_true.append(y.item())\n"
   ]
  },
  {
   "cell_type": "code",
   "execution_count": 25,
   "metadata": {},
   "outputs": [
    {
     "name": "stdout",
     "output_type": "stream",
     "text": [
      "              precision    recall  f1-score   support\n",
      "\n",
      "           0       1.00      0.92      0.96        49\n",
      "           1       1.00      0.98      0.99        44\n",
      "           2       1.00      0.95      0.97        39\n",
      "           3       0.93      1.00      0.97        43\n",
      "           4       0.92      1.00      0.96        49\n",
      "\n",
      "    accuracy                           0.97       224\n",
      "   macro avg       0.97      0.97      0.97       224\n",
      "weighted avg       0.97      0.97      0.97       224\n",
      "\n"
     ]
    }
   ],
   "source": [
    "vanilla_accu = accuracy_score(y_true, preds)\n",
    "print(classification_report(y_true, preds))"
   ]
  },
  {
   "cell_type": "code",
   "execution_count": 28,
   "metadata": {},
   "outputs": [
    {
     "name": "stdout",
     "output_type": "stream",
     "text": [
      "0.96875\n",
      "0.9732142857142857\n"
     ]
    }
   ],
   "source": [
    "print(vanilla_accu)\n",
    "print(att_gru_accu)"
   ]
  },
  {
   "cell_type": "code",
   "execution_count": null,
   "metadata": {},
   "outputs": [],
   "source": []
  }
 ],
 "metadata": {
  "interpreter": {
   "hash": "f3ebefefc6aaf644093121d8e5202d868a7e59c8d807fbf6949f2a61cd748adb"
  },
  "kernelspec": {
   "display_name": "Python 3.9.12 ('pytorch')",
   "language": "python",
   "name": "python3"
  },
  "language_info": {
   "codemirror_mode": {
    "name": "ipython",
    "version": 3
   },
   "file_extension": ".py",
   "mimetype": "text/x-python",
   "name": "python",
   "nbconvert_exporter": "python",
   "pygments_lexer": "ipython3",
   "version": "3.9.12"
  },
  "orig_nbformat": 4
 },
 "nbformat": 4,
 "nbformat_minor": 2
}
